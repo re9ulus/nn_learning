{
 "cells": [
  {
   "cell_type": "markdown",
   "metadata": {},
   "source": [
    "# Task 1: Improving the accuracy of our logistic regression on MNIST"
   ]
  },
  {
   "cell_type": "markdown",
   "metadata": {},
   "source": [
    "### Done.\n",
    "*Accuracy > 0.97 (0.9714)*"
   ]
  },
  {
   "cell_type": "code",
   "execution_count": 1,
   "metadata": {
    "collapsed": true
   },
   "outputs": [],
   "source": [
    "import tensorflow as tf\n",
    "import numpy as np\n",
    "from tensorflow.examples.tutorials.mnist import input_data\n",
    "import time\n",
    "\n",
    "# Define paramaters for the model\n",
    "learning_rate = 0.001\n",
    "batch_size = 256\n",
    "n_epochs = 100\n",
    "reg = 0.001"
   ]
  },
  {
   "cell_type": "code",
   "execution_count": 2,
   "metadata": {
    "collapsed": false
   },
   "outputs": [
    {
     "name": "stdout",
     "output_type": "stream",
     "text": [
      "Extracting /data/mnist\\train-images-idx3-ubyte.gz\n",
      "Extracting /data/mnist\\train-labels-idx1-ubyte.gz\n",
      "Extracting /data/mnist\\t10k-images-idx3-ubyte.gz\n",
      "Extracting /data/mnist\\t10k-labels-idx1-ubyte.gz\n"
     ]
    }
   ],
   "source": [
    "# Step 1: Read in data\n",
    "mnist = input_data.read_data_sets('/data/mnist', one_hot=True)\n",
    "\n",
    "# Step 2: create placeholders for features and labels\n",
    "X = tf.placeholder(tf.float32, [batch_size, 784], name='image')\n",
    "Y = tf.placeholder(tf.float32, [batch_size, 10], name='label')\n",
    "\n",
    "# Step 3: create weights and bias\n",
    "w1 = tf.Variable(tf.random_normal([784, 100], stddev=0.1) * tf.sqrt(2.) / batch_size , name='weight1')\n",
    "b1 = tf.Variable(tf.zeros([1, 100]), name='bias1')\n",
    "\n",
    "w2 = tf.Variable(tf.random_normal([100, 10], stddev=0.1) * tf.sqrt(2.) / batch_size , name='weight2')\n",
    "b2 = tf.Variable(tf.zeros([1, 10]), name='bias2')\n",
    "\n",
    "# Step 4: build model\n",
    "# DO NOT DO SOFTMAX HERE\n",
    "h1 = tf.nn.relu(tf.matmul(X, w1) + b1)\n",
    "logits = tf.matmul(h1, w2) + b2\n",
    "\n",
    "# Step 5: define loss function\n",
    "entropy = tf.nn.softmax_cross_entropy_with_logits(logits=logits, labels=Y)\n",
    "loss = tf.reduce_mean(entropy) + reg * (tf.reduce_sum(w1 ** 2) + tf.reduce_sum(w2 ** 2))\n",
    "\n",
    "# Step 6: define training op\n",
    "optimizer = tf.train.AdamOptimizer(learning_rate=0.001).minimize(loss)"
   ]
  },
  {
   "cell_type": "code",
   "execution_count": 3,
   "metadata": {
    "collapsed": false
   },
   "outputs": [
    {
     "name": "stdout",
     "output_type": "stream",
     "text": [
      "Average loss epoch 9: 0.2603639990926903\n",
      "Average loss epoch 19: 0.23800325546866266\n",
      "Average loss epoch 29: 0.2320742225535562\n",
      "Average loss epoch 39: 0.22983228540587647\n",
      "Average loss epoch 49: 0.22798051768652747\n",
      "Average loss epoch 59: 0.22700998444702022\n",
      "Average loss epoch 69: 0.22633846285187195\n",
      "Average loss epoch 79: 0.22503264352818517\n",
      "Average loss epoch 89: 0.22473169884113509\n",
      "Average loss epoch 99: 0.2246203877937014\n",
      "Total time: 63.40707588195801 seconds\n",
      "Optimization Finished!\n",
      "Accuracy 0.9714\n"
     ]
    }
   ],
   "source": [
    "with tf.Session() as sess:\n",
    "    start_time = time.time()\n",
    "    sess.run(tf.global_variables_initializer())\n",
    "    n_batches = int(mnist.train.num_examples/batch_size)\n",
    "    for i in range(n_epochs): # train the model n_epochs times\n",
    "        total_loss = 0\n",
    "\n",
    "        for _ in range(n_batches):\n",
    "            X_batch, Y_batch = mnist.train.next_batch(batch_size)\n",
    "            # TO-DO: run optimizer + fetch loss_batch\n",
    "            __, loss_batch = sess.run([optimizer, loss], feed_dict={X:X_batch, Y:Y_batch})\n",
    "            total_loss += loss_batch\n",
    "        if (i + 1) % 10 == 0:\n",
    "            print('Average loss epoch {0}: {1}'.format(i, total_loss/n_batches))\n",
    "\n",
    "    print('Total time: {0} seconds'.format(time.time() - start_time))\n",
    "    print('Optimization Finished!')\n",
    "\n",
    "    # test the model\n",
    "    n_batches = int(mnist.test.num_examples/batch_size)\n",
    "    total_correct_preds = 0\n",
    "    for i in range(n_batches):\n",
    "        X_batch, Y_batch = mnist.test.next_batch(batch_size)\n",
    "        _, loss_batch, logits_batch = sess.run([optimizer, loss, logits], feed_dict={X: X_batch, Y:Y_batch})\n",
    "        preds = tf.nn.softmax(logits_batch)\n",
    "        correct_preds = tf.equal(tf.argmax(preds, 1), tf.argmax(Y_batch, 1))\n",
    "        accuracy = tf.reduce_sum(tf.cast(correct_preds, tf.float32))\n",
    "        total_correct_preds += sess.run(accuracy)\n",
    "\n",
    "    print('Accuracy {0}'.format(total_correct_preds/mnist.test.num_examples))"
   ]
  }
 ],
 "metadata": {
  "anaconda-cloud": {},
  "kernelspec": {
   "display_name": "Python [conda root]",
   "language": "python",
   "name": "conda-root-py"
  },
  "language_info": {
   "codemirror_mode": {
    "name": "ipython",
    "version": 3
   },
   "file_extension": ".py",
   "mimetype": "text/x-python",
   "name": "python",
   "nbconvert_exporter": "python",
   "pygments_lexer": "ipython3",
   "version": "3.5.2"
  }
 },
 "nbformat": 4,
 "nbformat_minor": 1
}
