{
 "cells": [
  {
   "cell_type": "code",
   "execution_count": 1,
   "metadata": {
    "collapsed": true
   },
   "outputs": [],
   "source": [
    "import tensorflow as tf"
   ]
  },
  {
   "cell_type": "code",
   "execution_count": 2,
   "metadata": {
    "collapsed": false
   },
   "outputs": [
    {
     "name": "stdout",
     "output_type": "stream",
     "text": [
      "5\n"
     ]
    }
   ],
   "source": [
    "a = tf.constant(2, name='a')\n",
    "b = tf.constant(3, name='b')\n",
    "x = tf.add(a, b, name='add')\n",
    "with tf.Session() as sess:\n",
    "    print(sess.run(x))"
   ]
  },
  {
   "cell_type": "markdown",
   "metadata": {},
   "source": [
    "# TensoBoard"
   ]
  },
  {
   "cell_type": "code",
   "execution_count": 5,
   "metadata": {
    "collapsed": false
   },
   "outputs": [
    {
     "name": "stdout",
     "output_type": "stream",
     "text": [
      "5\n"
     ]
    }
   ],
   "source": [
    "with tf.Session() as sess:\n",
    "    writer = tf.summary.FileWriter('./graphs', sess.graph)\n",
    "    print(sess.run(x))\n",
    "    writer.close()"
   ]
  },
  {
   "cell_type": "markdown",
   "metadata": {},
   "source": [
    "To start **TensorBoard** run from command line:\n",
    "```\n",
    "tensorboard --logdir='./graphs' --port 6006\n",
    "```"
   ]
  },
  {
   "cell_type": "markdown",
   "metadata": {},
   "source": [
    "# Constants"
   ]
  },
  {
   "cell_type": "code",
   "execution_count": 12,
   "metadata": {
    "collapsed": false
   },
   "outputs": [
    {
     "name": "stdout",
     "output_type": "stream",
     "text": [
      "x [[2 3]\n",
      " [4 5]]\n",
      "y [[0 2]\n",
      " [4 6]]\n"
     ]
    }
   ],
   "source": [
    "a = tf.constant([2, 2], name='a')\n",
    "b = tf.constant([[0, 1], [2, 3]], name='b')\n",
    "x = tf.add(a, b, name='add')\n",
    "y = tf.multiply(a, b, name='mul')\n",
    "with tf.Session() as sess:\n",
    "    x, y = sess.run([x, y])\n",
    "    print('x', x)\n",
    "    print('y', y)"
   ]
  },
  {
   "cell_type": "code",
   "execution_count": 15,
   "metadata": {
    "collapsed": false
   },
   "outputs": [
    {
     "data": {
      "text/plain": [
       "<tf.Tensor 'FloorMod:0' shape=(2,) dtype=int32>"
      ]
     },
     "execution_count": 15,
     "metadata": {},
     "output_type": "execute_result"
    }
   ],
   "source": [
    "a = tf.constant([3, 6])\n",
    "b = tf.constant([2, 2])\n",
    "tf.add(a, b)\n",
    "tf.add_n([a, b, b])\n",
    "tf.multiply(a, b)\n",
    "tf.matmul(tf.reshape(a, [1, 2]), tf.reshape(b, [2, 1]))\n",
    "tf.div(a, b)\n",
    "tf.mod(a, b)"
   ]
  },
  {
   "cell_type": "code",
   "execution_count": 20,
   "metadata": {
    "collapsed": false
   },
   "outputs": [
    {
     "name": "stdout",
     "output_type": "stream",
     "text": [
      "[b'' b'' b'']\n"
     ]
    }
   ],
   "source": [
    "t_0 = 19\n",
    "t_1 = ['apple', 'peach', 'banana']\n",
    "tmp = tf.zeros_like(t_1)\n",
    "with tf.Session() as sess:\n",
    "    print(sess.run(tmp))"
   ]
  },
  {
   "cell_type": "markdown",
   "metadata": {},
   "source": [
    "# Variables"
   ]
  },
  {
   "cell_type": "code",
   "execution_count": 24,
   "metadata": {
    "collapsed": true
   },
   "outputs": [],
   "source": [
    "a = tf.Variable(2, name='scalar')\n",
    "b = tf.Variable([2, 3], name='vector')\n",
    "c = tf.Variable([[0, 1], [2, 3]], name='matrix')\n",
    "W = tf.Variable(tf.zeros([784, 10]))"
   ]
  },
  {
   "cell_type": "markdown",
   "metadata": {},
   "source": [
    "### Init variables"
   ]
  },
  {
   "cell_type": "code",
   "execution_count": 29,
   "metadata": {
    "collapsed": false
   },
   "outputs": [],
   "source": [
    "# Init all variables\n",
    "init = tf.global_variables_initializer()\n",
    "with tf.Session() as sess:\n",
    "    sess.run(init)\n",
    "\n",
    "# Init some vairables\n",
    "init_ab = tf.variables_initializer([a, b], name='init_ab')\n",
    "with tf.Session() as sess:\n",
    "    sess.run(init_ab)\n",
    "\n",
    "# Initialize a single variable\n",
    "W = tf.Variable(tf.zeros([700, 10]))\n",
    "with tf.Session() as sess:\n",
    "    sess.run(W.initializer)"
   ]
  },
  {
   "cell_type": "markdown",
   "metadata": {},
   "source": [
    "### Eval() a variable"
   ]
  },
  {
   "cell_type": "code",
   "execution_count": 30,
   "metadata": {
    "collapsed": false
   },
   "outputs": [
    {
     "name": "stdout",
     "output_type": "stream",
     "text": [
      "[[ 0.14330386  0.5437237  -0.50168991 ..., -1.22813451 -0.16157998\n",
      "  -0.30118865]\n",
      " [ 1.6364603   0.56901371 -0.56975114 ...,  0.18622348 -0.39609814\n",
      "   0.75574541]\n",
      " [ 1.15126669 -1.2924993   1.39900637 ...,  1.32783568  0.71154994\n",
      "  -0.85739654]\n",
      " ..., \n",
      " [-0.32508823 -1.03060007 -1.9524411  ..., -1.17475712 -0.41474244\n",
      "  -0.07682394]\n",
      " [-0.58800095  0.91452235 -0.28916091 ..., -0.24835956  0.47739992\n",
      "   0.06895613]\n",
      " [-0.94257784 -1.13433719  1.28207469 ...,  0.25644806 -0.69595289\n",
      "  -0.29066801]]\n"
     ]
    }
   ],
   "source": [
    "W = tf.Variable(tf.truncated_normal([700, 10]))\n",
    "with tf.Session() as sess:\n",
    "    sess.run(W.initializer)\n",
    "    print(W.eval())"
   ]
  },
  {
   "cell_type": "markdown",
   "metadata": {},
   "source": [
    "### Assign"
   ]
  },
  {
   "cell_type": "code",
   "execution_count": 33,
   "metadata": {
    "collapsed": false
   },
   "outputs": [
    {
     "name": "stdout",
     "output_type": "stream",
     "text": [
      "100\n"
     ]
    }
   ],
   "source": [
    "W = tf.Variable(10)\n",
    "assign_op = W.assign(100)\n",
    "with tf.Session() as sess:\n",
    "#     sess.run(W.initializer) # Do not need\n",
    "    sess.run(assign_op)\n",
    "    print(W.eval())"
   ]
  },
  {
   "cell_type": "code",
   "execution_count": 36,
   "metadata": {
    "collapsed": false
   },
   "outputs": [
    {
     "name": "stdout",
     "output_type": "stream",
     "text": [
      "4\n",
      "8\n",
      "16\n"
     ]
    }
   ],
   "source": [
    "my_var = tf.Variable(2, name='my_var')\n",
    "my_var_times_two = my_var.assign(2 * my_var)\n",
    "\n",
    "with tf.Session() as sess:\n",
    "    sess.run(my_var.initializer)\n",
    "    print(sess.run(my_var_times_two))\n",
    "    print(sess.run(my_var_times_two))\n",
    "    print(sess.run(my_var_times_two))"
   ]
  },
  {
   "cell_type": "code",
   "execution_count": 37,
   "metadata": {
    "collapsed": false
   },
   "outputs": [
    {
     "name": "stdout",
     "output_type": "stream",
     "text": [
      "20\n",
      "18\n"
     ]
    }
   ],
   "source": [
    "my_var = tf.Variable(10)\n",
    "with tf.Session() as sess:\n",
    "    sess.run(my_var.initializer)\n",
    "    print(sess.run(my_var.assign_add(10)))\n",
    "    print(sess.run(my_var.assign_sub(2)))"
   ]
  },
  {
   "cell_type": "markdown",
   "metadata": {},
   "source": [
    "# Interactive session"
   ]
  },
  {
   "cell_type": "code",
   "execution_count": 38,
   "metadata": {
    "collapsed": false
   },
   "outputs": [
    {
     "name": "stdout",
     "output_type": "stream",
     "text": [
      "30.0\n"
     ]
    }
   ],
   "source": [
    "sess = tf.InteractiveSession()\n",
    "a = tf.constant(5.0)\n",
    "b = tf.constant(6.0)\n",
    "c = a * b\n",
    "print(c.eval())\n",
    "sess.close()"
   ]
  },
  {
   "cell_type": "markdown",
   "metadata": {},
   "source": [
    "# Placeholders"
   ]
  },
  {
   "cell_type": "code",
   "execution_count": 41,
   "metadata": {
    "collapsed": false
   },
   "outputs": [
    {
     "name": "stdout",
     "output_type": "stream",
     "text": [
      "[ 6.  7.  8.]\n"
     ]
    }
   ],
   "source": [
    "a = tf.placeholder(tf.float32, shape=[3])\n",
    "b = tf.constant([5, 5, 5], tf.float32)\n",
    "c = a + b\n",
    "with tf.Session() as sess:\n",
    "    print(sess.run(c, {a: [1, 2, 3]}))"
   ]
  },
  {
   "cell_type": "code",
   "execution_count": 43,
   "metadata": {
    "collapsed": false
   },
   "outputs": [
    {
     "name": "stdout",
     "output_type": "stream",
     "text": [
      "18\n"
     ]
    }
   ],
   "source": [
    "a = tf.add(2, 5)\n",
    "b = tf.add(a, 3)\n",
    "with tf.Session() as sess:\n",
    "    replace_dict = {a: 15}\n",
    "    print(sess.run(b, feed_dict=replace_dict))"
   ]
  }
 ],
 "metadata": {
  "anaconda-cloud": {},
  "kernelspec": {
   "display_name": "Python [conda root]",
   "language": "python",
   "name": "conda-root-py"
  },
  "language_info": {
   "codemirror_mode": {
    "name": "ipython",
    "version": 3
   },
   "file_extension": ".py",
   "mimetype": "text/x-python",
   "name": "python",
   "nbconvert_exporter": "python",
   "pygments_lexer": "ipython3",
   "version": "3.5.2"
  }
 },
 "nbformat": 4,
 "nbformat_minor": 1
}
