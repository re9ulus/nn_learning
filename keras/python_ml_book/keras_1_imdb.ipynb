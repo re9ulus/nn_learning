{
 "cells": [
  {
   "cell_type": "code",
   "execution_count": 1,
   "metadata": {},
   "outputs": [
    {
     "name": "stderr",
     "output_type": "stream",
     "text": [
      "Using TensorFlow backend.\n"
     ]
    }
   ],
   "source": [
    "from keras.datasets import imdb\n",
    "(train_data, train_labels), (test_data, test_labels) = \\\n",
    "    imdb.load_data(num_words=10000)"
   ]
  },
  {
   "cell_type": "code",
   "execution_count": 2,
   "metadata": {
    "collapsed": true
   },
   "outputs": [],
   "source": [
    "import numpy as np\n",
    "\n",
    "def vectorize_sequences(sequences, dimension=10000):\n",
    "    results = np.zeros((len(sequences), dimension))  # create an all-zero matrix of shape (len(sequences), dimension)\n",
    "    for i, sequence in enumerate(sequences):\n",
    "        results[i, sequence] = 1.  # set specific indices of results[i] to 1s\n",
    "    return results\n",
    "\n",
    "# our vectorized training data\n",
    "x_train = vectorize_sequences(train_data)\n",
    "# our vectorized test data\n",
    "x_test = vectorize_sequences(test_data)"
   ]
  },
  {
   "cell_type": "code",
   "execution_count": 3,
   "metadata": {
    "collapsed": true
   },
   "outputs": [],
   "source": [
    "y_train = np.asarray(train_labels).astype('float32')\n",
    "y_test = np.asarray(test_labels).astype('float32')"
   ]
  },
  {
   "cell_type": "code",
   "execution_count": 4,
   "metadata": {
    "collapsed": true
   },
   "outputs": [],
   "source": [
    "from keras import models\n",
    "from keras import layers\n",
    "\n",
    "model = models.Sequential()\n",
    "model.add(layers.Dense(16, activation='relu', input_shape=(10000,)))\n",
    "model.add(layers.Dense(16, activation='relu'))\n",
    "\n",
    "model.add(layers.Dense(1, activation='sigmoid'))"
   ]
  },
  {
   "cell_type": "code",
   "execution_count": 5,
   "metadata": {
    "collapsed": true
   },
   "outputs": [],
   "source": [
    "model.compile(optimizer='rmsprop',\n",
    "              loss='binary_crossentropy',\n",
    "              metrics=['accuracy'])"
   ]
  },
  {
   "cell_type": "code",
   "execution_count": 7,
   "metadata": {
    "collapsed": true
   },
   "outputs": [],
   "source": [
    "x_val = x_train[:10000]\n",
    "partial_x_train = x_train[10000:]\n",
    "\n",
    "y_val = y_train[:10000]\n",
    "partial_y_train = y_train[10000:]"
   ]
  },
  {
   "cell_type": "code",
   "execution_count": 8,
   "metadata": {
    "scrolled": true
   },
   "outputs": [
    {
     "name": "stdout",
     "output_type": "stream",
     "text": [
      "Train on 15000 samples, validate on 10000 samples\n",
      "Epoch 1/20\n",
      "15000/15000 [==============================] - 1s - loss: 0.5157 - acc: 0.7895 - val_loss: 0.4009 - val_acc: 0.8653\n",
      "Epoch 2/20\n",
      "15000/15000 [==============================] - 1s - loss: 0.3146 - acc: 0.9029 - val_loss: 0.3247 - val_acc: 0.8787\n",
      "Epoch 3/20\n",
      "15000/15000 [==============================] - 1s - loss: 0.2319 - acc: 0.9246 - val_loss: 0.2808 - val_acc: 0.8923\n",
      "Epoch 4/20\n",
      "15000/15000 [==============================] - 1s - loss: 0.1816 - acc: 0.9430 - val_loss: 0.2729 - val_acc: 0.8905\n",
      "Epoch 5/20\n",
      "15000/15000 [==============================] - 1s - loss: 0.1495 - acc: 0.9513 - val_loss: 0.2780 - val_acc: 0.8891\n",
      "Epoch 6/20\n",
      "15000/15000 [==============================] - 1s - loss: 0.1209 - acc: 0.9631 - val_loss: 0.3220 - val_acc: 0.8806\n",
      "Epoch 7/20\n",
      "15000/15000 [==============================] - 1s - loss: 0.1030 - acc: 0.9691 - val_loss: 0.3045 - val_acc: 0.8847\n",
      "Epoch 8/20\n",
      "15000/15000 [==============================] - 1s - loss: 0.0847 - acc: 0.9759 - val_loss: 0.3366 - val_acc: 0.8775\n",
      "Epoch 9/20\n",
      "15000/15000 [==============================] - 1s - loss: 0.0728 - acc: 0.9806 - val_loss: 0.3595 - val_acc: 0.8802\n",
      "Epoch 10/20\n",
      "15000/15000 [==============================] - 1s - loss: 0.0582 - acc: 0.9859 - val_loss: 0.3726 - val_acc: 0.8805\n",
      "Epoch 11/20\n",
      "15000/15000 [==============================] - 1s - loss: 0.0490 - acc: 0.9885 - val_loss: 0.3983 - val_acc: 0.8776\n",
      "Epoch 12/20\n",
      "15000/15000 [==============================] - 1s - loss: 0.0388 - acc: 0.9920 - val_loss: 0.4406 - val_acc: 0.8774\n",
      "Epoch 13/20\n",
      "15000/15000 [==============================] - 1s - loss: 0.0302 - acc: 0.9944 - val_loss: 0.4551 - val_acc: 0.8745\n",
      "Epoch 14/20\n",
      "15000/15000 [==============================] - 1s - loss: 0.0241 - acc: 0.9960 - val_loss: 0.4822 - val_acc: 0.8737\n",
      "Epoch 15/20\n",
      "15000/15000 [==============================] - 1s - loss: 0.0197 - acc: 0.9969 - val_loss: 0.5721 - val_acc: 0.8674\n",
      "Epoch 16/20\n",
      "15000/15000 [==============================] - 1s - loss: 0.0124 - acc: 0.9993 - val_loss: 0.5546 - val_acc: 0.8730\n",
      "Epoch 17/20\n",
      "15000/15000 [==============================] - 1s - loss: 0.0125 - acc: 0.9983 - val_loss: 0.5811 - val_acc: 0.8715\n",
      "Epoch 18/20\n",
      "15000/15000 [==============================] - 1s - loss: 0.0085 - acc: 0.9992 - val_loss: 0.6094 - val_acc: 0.8685\n",
      "Epoch 19/20\n",
      "15000/15000 [==============================] - 1s - loss: 0.0072 - acc: 0.9992 - val_loss: 0.6453 - val_acc: 0.8668\n",
      "Epoch 20/20\n",
      "15000/15000 [==============================] - 1s - loss: 0.0040 - acc: 0.9999 - val_loss: 0.7562 - val_acc: 0.8610\n"
     ]
    }
   ],
   "source": [
    "history = model.fit(partial_x_train,\n",
    "                    partial_y_train,\n",
    "                    epochs=20,\n",
    "                    batch_size=512,\n",
    "                    validation_data=(x_val, y_val))"
   ]
  },
  {
   "cell_type": "code",
   "execution_count": 10,
   "metadata": {},
   "outputs": [
    {
     "data": {
      "image/png": "[encoded data removed]",
      "text/plain": [
       "<matplotlib.figure.Figure at 0x7f5a38c21390>"
      ]
     },
     "metadata": {},
     "output_type": "display_data"
    }
   ],
   "source": [
    "history_dict = history.history\n",
    "\n",
    "import matplotlib.pyplot as plt\n",
    "\n",
    "loss_values = history_dict['loss']\n",
    "val_loss_values = history_dict['val_loss']\n",
    "epochs = range(1, len(loss_values) + 1)\n",
    "\n",
    "# \"bo\" is for \"blue dot\"\n",
    "plt.plot(epochs, loss_values, 'bo')\n",
    "# b+ is for \"blue crosses\"\n",
    "plt.plot(epochs, val_loss_values, 'b+')\n",
    "plt.xlabel('Epochs')\n",
    "plt.ylabel('Loss')\n",
    "\n",
    "plt.show()"
   ]
  },
  {
   "cell_type": "code",
   "execution_count": 11,
   "metadata": {},
   "outputs": [
    {
     "name": "stdout",
     "output_type": "stream",
     "text": [
      "Epoch 1/4\n",
      "25000/25000 [==============================] - 1s - loss: 0.2329 - acc: 0.9471     \n",
      "Epoch 2/4\n",
      "25000/25000 [==============================] - 1s - loss: 0.1388 - acc: 0.9585     \n",
      "Epoch 3/4\n",
      "25000/25000 [==============================] - 1s - loss: 0.1108 - acc: 0.9671     \n",
      "Epoch 4/4\n",
      "25000/25000 [==============================] - 1s - loss: 0.0882 - acc: 0.9728     \n",
      "24928/25000 [============================>.] - ETA: 0s"
     ]
    }
   ],
   "source": [
    "model.fit(x_train, y_train, epochs=4, batch_size=512)\n",
    "results = model.evaluate(x_test, y_test)"
   ]
  },
  {
   "cell_type": "code",
   "execution_count": 12,
   "metadata": {},
   "outputs": [
    {
     "data": {
      "text/plain": [
       "array([[  9.76888478e-01],\n",
       "       [  8.34702551e-01],\n",
       "       [  9.99944091e-01],\n",
       "       ..., \n",
       "       [  4.98647898e-01],\n",
       "       [  1.99251328e-04],\n",
       "       [  7.96868980e-01]], dtype=float32)"
      ]
     },
     "execution_count": 12,
     "metadata": {},
     "output_type": "execute_result"
    }
   ],
   "source": [
    "model.predict(x_test)"
   ]
  },
  {
   "cell_type": "code",
   "execution_count": 13,
   "metadata": {
    "collapsed": true
   },
   "outputs": [],
   "source": [
    "### Tests"
   ]
  },
  {
   "cell_type": "code",
   "execution_count": 17,
   "metadata": {},
   "outputs": [
    {
     "name": "stdout",
     "output_type": "stream",
     "text": [
      "Train on 15000 samples, validate on 10000 samples\n",
      "Epoch 1/20\n",
      "15000/15000 [==============================] - 1s - loss: 0.5187 - acc: 0.7666 - val_loss: 0.3896 - val_acc: 0.8618\n",
      "Epoch 2/20\n",
      "15000/15000 [==============================] - 1s - loss: 0.3052 - acc: 0.9028 - val_loss: 0.3245 - val_acc: 0.8731\n",
      "Epoch 3/20\n",
      "15000/15000 [==============================] - 1s - loss: 0.2209 - acc: 0.9302 - val_loss: 0.2779 - val_acc: 0.8890\n",
      "Epoch 4/20\n",
      "15000/15000 [==============================] - 1s - loss: 0.1725 - acc: 0.9449 - val_loss: 0.2848 - val_acc: 0.8871\n",
      "Epoch 5/20\n",
      "15000/15000 [==============================] - 1s - loss: 0.1378 - acc: 0.9565 - val_loss: 0.2831 - val_acc: 0.8878\n",
      "Epoch 6/20\n",
      "15000/15000 [==============================] - 1s - loss: 0.1141 - acc: 0.9644 - val_loss: 0.3024 - val_acc: 0.8859\n",
      "Epoch 7/20\n",
      "15000/15000 [==============================] - 1s - loss: 0.0932 - acc: 0.9729 - val_loss: 0.3284 - val_acc: 0.8773\n",
      "Epoch 8/20\n",
      "15000/15000 [==============================] - 1s - loss: 0.0782 - acc: 0.9777 - val_loss: 0.3383 - val_acc: 0.8807\n",
      "Epoch 9/20\n",
      "15000/15000 [==============================] - 1s - loss: 0.0631 - acc: 0.9835 - val_loss: 0.3644 - val_acc: 0.8779\n",
      "Epoch 10/20\n",
      "15000/15000 [==============================] - 1s - loss: 0.0531 - acc: 0.9863 - val_loss: 0.4115 - val_acc: 0.8704\n",
      "Epoch 11/20\n",
      "15000/15000 [==============================] - 1s - loss: 0.0407 - acc: 0.9913 - val_loss: 0.4352 - val_acc: 0.8728\n",
      "Epoch 12/20\n",
      "15000/15000 [==============================] - 1s - loss: 0.0352 - acc: 0.9932 - val_loss: 0.4418 - val_acc: 0.8754\n",
      "Epoch 13/20\n",
      "15000/15000 [==============================] - 1s - loss: 0.0263 - acc: 0.9960 - val_loss: 0.5438 - val_acc: 0.8632\n",
      "Epoch 14/20\n",
      "15000/15000 [==============================] - 1s - loss: 0.0199 - acc: 0.9969 - val_loss: 0.5138 - val_acc: 0.8709\n",
      "Epoch 15/20\n",
      "15000/15000 [==============================] - 1s - loss: 0.0169 - acc: 0.9973 - val_loss: 0.5607 - val_acc: 0.8673\n",
      "Epoch 16/20\n",
      "15000/15000 [==============================] - 1s - loss: 0.0178 - acc: 0.9953 - val_loss: 0.5815 - val_acc: 0.8683\n",
      "Epoch 17/20\n",
      "15000/15000 [==============================] - 1s - loss: 0.0070 - acc: 0.9996 - val_loss: 0.6610 - val_acc: 0.8576\n",
      "Epoch 18/20\n",
      "15000/15000 [==============================] - 1s - loss: 0.0102 - acc: 0.9979 - val_loss: 0.6528 - val_acc: 0.8671\n",
      "Epoch 19/20\n",
      "15000/15000 [==============================] - 1s - loss: 0.0041 - acc: 0.9997 - val_loss: 0.6814 - val_acc: 0.8667\n",
      "Epoch 20/20\n",
      "15000/15000 [==============================] - 1s - loss: 0.0088 - acc: 0.9977 - val_loss: 0.7126 - val_acc: 0.8658\n"
     ]
    },
    {
     "data": {
      "image/png": "[encoded data removed]",
      "text/plain": [
       "<matplotlib.figure.Figure at 0x7f5a38636978>"
      ]
     },
     "metadata": {},
     "output_type": "display_data"
    }
   ],
   "source": [
    "model = models.Sequential()\n",
    "model.add(layers.Dense(16, activation='relu', input_shape=(10000,)))\n",
    "model.add(layers.Dense(8, activation='relu'))\n",
    "model.add(layers.Dense(4, activation='relu'))\n",
    "model.add(layers.Dense(1, activation='sigmoid'))\n",
    "\n",
    "model.compile(optimizer='rmsprop',\n",
    "              loss='binary_crossentropy',\n",
    "              metrics=['accuracy'])\n",
    "\n",
    "history = model.fit(partial_x_train,\n",
    "                    partial_y_train,\n",
    "                    epochs=20,\n",
    "                    batch_size=512,\n",
    "                    validation_data=(x_val, y_val))\n",
    "\n",
    "history_dict = history.history\n",
    "\n",
    "import matplotlib.pyplot as plt\n",
    "\n",
    "loss_values = history_dict['loss']\n",
    "val_loss_values = history_dict['val_loss']\n",
    "epochs = range(1, len(loss_values) + 1)\n",
    "\n",
    "plt.plot(epochs, loss_values, 'bo')\n",
    "plt.plot(epochs, val_loss_values, 'b+')\n",
    "plt.xlabel('Epochs')\n",
    "plt.ylabel('Loss')\n",
    "\n",
    "plt.show()"
   ]
  }
 ],
 "metadata": {
  "kernelspec": {
   "display_name": "Python 3",
   "language": "python",
   "name": "python3"
  },
  "language_info": {
   "codemirror_mode": {
    "name": "ipython",
    "version": 3
   },
   "file_extension": ".py",
   "mimetype": "text/x-python",
   "name": "python",
   "nbconvert_exporter": "python",
   "pygments_lexer": "ipython3",
   "version": "3.5.3"
  }
 },
 "nbformat": 4,
 "nbformat_minor": 2
}
